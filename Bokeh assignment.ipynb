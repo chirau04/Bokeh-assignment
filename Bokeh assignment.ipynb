{
 "cells": [
  {
   "cell_type": "code",
   "execution_count": 1,
   "id": "46709bdb-7417-4835-9aa6-1efbc20ade36",
   "metadata": {},
   "outputs": [
    {
     "name": "stdout",
     "output_type": "stream",
     "text": [
      "Requirement already satisfied: bokeh in /opt/conda/lib/python3.10/site-packages (3.0.3)\n",
      "Requirement already satisfied: tornado>=5.1 in /opt/conda/lib/python3.10/site-packages (from bokeh) (6.1)\n",
      "Requirement already satisfied: contourpy>=1 in /opt/conda/lib/python3.10/site-packages (from bokeh) (1.0.6)\n",
      "Requirement already satisfied: packaging>=16.8 in /opt/conda/lib/python3.10/site-packages (from bokeh) (22.0)\n",
      "Requirement already satisfied: pandas>=1.2 in /opt/conda/lib/python3.10/site-packages (from bokeh) (1.5.2)\n",
      "Requirement already satisfied: PyYAML>=3.10 in /opt/conda/lib/python3.10/site-packages (from bokeh) (6.0)\n",
      "Requirement already satisfied: numpy>=1.11.3 in /opt/conda/lib/python3.10/site-packages (from bokeh) (1.23.5)\n",
      "Requirement already satisfied: xyzservices>=2021.09.1 in /opt/conda/lib/python3.10/site-packages (from bokeh) (2022.9.0)\n",
      "Requirement already satisfied: Jinja2>=2.9 in /opt/conda/lib/python3.10/site-packages (from bokeh) (3.1.2)\n",
      "Requirement already satisfied: pillow>=7.1.0 in /opt/conda/lib/python3.10/site-packages (from bokeh) (9.2.0)\n",
      "Requirement already satisfied: MarkupSafe>=2.0 in /opt/conda/lib/python3.10/site-packages (from Jinja2>=2.9->bokeh) (2.1.1)\n",
      "Requirement already satisfied: python-dateutil>=2.8.1 in /opt/conda/lib/python3.10/site-packages (from pandas>=1.2->bokeh) (2.8.2)\n",
      "Requirement already satisfied: pytz>=2020.1 in /opt/conda/lib/python3.10/site-packages (from pandas>=1.2->bokeh) (2022.6)\n",
      "Requirement already satisfied: six>=1.5 in /opt/conda/lib/python3.10/site-packages (from python-dateutil>=2.8.1->pandas>=1.2->bokeh) (1.16.0)\n",
      "Note: you may need to restart the kernel to use updated packages.\n"
     ]
    }
   ],
   "source": [
    "pip install bokeh"
   ]
  },
  {
   "cell_type": "code",
   "execution_count": 2,
   "id": "e1f700ed-4355-47b7-ba67-1f0560173974",
   "metadata": {},
   "outputs": [],
   "source": [
    "from bokeh.plotting import figure, output_file, show\n",
    "\n",
    "# Create some sample data\n",
    "x = [1, 2, 3, 4, 5]\n",
    "y = [6, 7, 2, 4, 5]\n",
    "\n",
    "# Specify the output file (optional)\n",
    "output_file(\"line.html\")\n",
    "\n",
    "# Create a new plot with a title and axis labels\n",
    "p = figure(title=\"Simple Bokeh Plot\", x_axis_label='x', y_axis_label='y')\n",
    "\n",
    "# Add a line renderer with legend and line thickness\n",
    "p.line(x, y, legend_label=\"Temp.\", line_width=2)\n",
    "\n",
    "# Show the result\n",
    "show(p)"
   ]
  },
  {
   "cell_type": "markdown",
   "id": "3f22ba7a-755e-4c42-adba-0bc02c95c264",
   "metadata": {},
   "source": [
    "In Bokeh, glyphs are visual markers that represent data points in plots. Glyphs can be simple shapes like circles, squares, or lines, or more complex shapes like wedges or patches. Each glyph corresponds to a data point or set of data points in the plot."
   ]
  },
  {
   "cell_type": "code",
   "execution_count": 3,
   "id": "35e61092-a7cd-4beb-8e1e-961e1ffe94f6",
   "metadata": {},
   "outputs": [],
   "source": [
    "from bokeh.plotting import figure, output_file, show\n",
    "\n",
    "# Create some sample data\n",
    "x = [1, 2, 3, 4, 5]\n",
    "y = [6, 7, 2, 4, 5]\n",
    "\n",
    "# Specify the output file (optional)\n",
    "output_file(\"glyphs.html\")\n",
    "\n",
    "# Create a new plot with a title and axis labels\n",
    "p = figure(title=\"Bokeh Plot with Glyphs\", x_axis_label='x', y_axis_label='y')\n",
    "\n",
    "# Add circles glyph\n",
    "p.circle(x, y, size=10, color=\"navy\", alpha=0.5)\n",
    "\n",
    "# Add squares glyph\n",
    "p.square(x, y, size=12, color=\"firebrick\", alpha=0.6)\n",
    "\n",
    "# Add triangles glyph\n",
    "p.triangle(x, y, size=14, color=\"green\", alpha=0.7)\n",
    "\n",
    "# Show the result\n",
    "show(p)"
   ]
  },
  {
   "cell_type": "code",
   "execution_count": 4,
   "id": "a441df37-18c3-4f48-a6e1-9e30a67a92ee",
   "metadata": {},
   "outputs": [],
   "source": [
    "from bokeh.plotting import figure, output_file, show\n",
    "\n",
    "# Create some sample data\n",
    "x = [1, 2, 3, 4, 5]\n",
    "y1 = [6, 7, 2, 4, 5]\n",
    "y2 = [8, 5, 3, 7, 3]\n",
    "\n",
    "# Specify the output file (optional)\n",
    "output_file(\"customized_plot.html\")\n",
    "\n",
    "# Create a new plot with a title and axis labels\n",
    "p = figure(title=\"Customized Bokeh Plot\", x_axis_label='x', y_axis_label='y')\n",
    "\n",
    "# Add glyphs\n",
    "p.circle(x, y1, legend_label=\"Line 1\", size=10, color=\"navy\", alpha=0.5)\n",
    "p.line(x, y2, legend_label=\"Line 2\", line_width=2, color=\"orange\")\n",
    "\n",
    "# Customize the appearance of axis\n",
    "p.xaxis.axis_label_text_color = \"red\"\n",
    "p.yaxis.axis_label_text_font_style = \"italic\"\n",
    "\n",
    "# Customize the appearance of the title\n",
    "p.title.text_color = \"blue\"\n",
    "p.title.text_font_size = \"20px\"\n",
    "p.title.align = \"center\"\n",
    "\n",
    "# Customize the appearance of legend\n",
    "p.legend.label_text_font = \"times\"\n",
    "p.legend.label_text_font_style = \"bold\"\n",
    "p.legend.location = \"top_left\"\n",
    "\n",
    "# Show the result\n",
    "show(p)"
   ]
  },
  {
   "cell_type": "markdown",
   "id": "adb853e3-83fb-41dd-8dbe-95ffb876a7b1",
   "metadata": {},
   "source": [
    "Using Flask:\n",
    "1. Create Flask App: Set up a Flask application.\n",
    "2. Create Bokeh Plot: Generate the Bokeh plot within your Flask app.\n",
    "3. Render Bokeh Plot: Render the Bokeh plot within a template file.\n",
    "4. Serve Flask App: Run the Flask app to serve the webpage with the embedded Bokeh plot."
   ]
  },
  {
   "cell_type": "code",
   "execution_count": 5,
   "id": "625dfce9-4469-4dcf-a4bb-973fccabcede",
   "metadata": {},
   "outputs": [
    {
     "ename": "ModuleNotFoundError",
     "evalue": "No module named 'flask'",
     "output_type": "error",
     "traceback": [
      "\u001b[0;31m---------------------------------------------------------------------------\u001b[0m",
      "\u001b[0;31mModuleNotFoundError\u001b[0m                       Traceback (most recent call last)",
      "Cell \u001b[0;32mIn[5], line 1\u001b[0m\n\u001b[0;32m----> 1\u001b[0m \u001b[38;5;28;01mfrom\u001b[39;00m \u001b[38;5;21;01mflask\u001b[39;00m \u001b[38;5;28;01mimport\u001b[39;00m Flask, render_template\n\u001b[1;32m      2\u001b[0m \u001b[38;5;28;01mfrom\u001b[39;00m \u001b[38;5;21;01mbokeh\u001b[39;00m\u001b[38;5;21;01m.\u001b[39;00m\u001b[38;5;21;01mplotting\u001b[39;00m \u001b[38;5;28;01mimport\u001b[39;00m figure\n\u001b[1;32m      3\u001b[0m \u001b[38;5;28;01mfrom\u001b[39;00m \u001b[38;5;21;01mbokeh\u001b[39;00m\u001b[38;5;21;01m.\u001b[39;00m\u001b[38;5;21;01membed\u001b[39;00m \u001b[38;5;28;01mimport\u001b[39;00m components\n",
      "\u001b[0;31mModuleNotFoundError\u001b[0m: No module named 'flask'"
     ]
    }
   ],
   "source": [
    "from flask import Flask, render_template\n",
    "from bokeh.plotting import figure\n",
    "from bokeh.embed import components\n",
    "\n",
    "app = Flask(name)\n",
    "\n",
    "@app.route('/')\n",
    "def index():\n",
    "    # Create Bokeh plot\n",
    "    p = figure(plot_width=400, plot_height=400)\n",
    "    p.circle([1, 2, 3, 4, 5], [6, 7, 2, 4, 5], size=10, color=\"navy\", alpha=0.5)\n",
    "\n",
    "    # Generate Bokeh plot components\n",
    "    script, div = components(p)\n",
    "\n",
    "    # Render template with embedded Bokeh plot\n",
    "    return render_template('index.html', script=script, div=div)\n",
    "\n",
    "if name == 'main':\n",
    "    app.run(debug=True)"
   ]
  },
  {
   "cell_type": "code",
   "execution_count": 7,
   "id": "ec71d2bd-0f9f-4580-bcdf-4de9ffc4ddd2",
   "metadata": {},
   "outputs": [
    {
     "ename": "SyntaxError",
     "evalue": "invalid decimal literal (3343133152.py, line 4)",
     "output_type": "error",
     "traceback": [
      "\u001b[0;36m  Cell \u001b[0;32mIn[7], line 4\u001b[0;36m\u001b[0m\n\u001b[0;31m    2.Create Bokeh Plot: Generate the Bokeh plot within your Flask app.\u001b[0m\n\u001b[0m     ^\u001b[0m\n\u001b[0;31mSyntaxError\u001b[0m\u001b[0;31m:\u001b[0m invalid decimal literal\n"
     ]
    }
   ],
   "source": [
    "Using Flask:\n",
    "    \n",
    "1. Create Flask App: Set up a Flask application.\n",
    "2.Create Bokeh Plot: Generate the Bokeh plot within your Flask app.\n",
    "3. Render Bokeh Plot: Render the Bokeh plot within a template file.\n",
    "4. Serve Flask App: Run the Flask app to serve the webpage with the embedded Bokeh plot."
   ]
  },
  {
   "cell_type": "code",
   "execution_count": 8,
   "id": "87bb5f58-7aef-4649-b4c3-e1e9dec626db",
   "metadata": {},
   "outputs": [
    {
     "ename": "SyntaxError",
     "evalue": "invalid syntax (2586623586.py, line 18)",
     "output_type": "error",
     "traceback": [
      "\u001b[0;36m  Cell \u001b[0;32mIn[8], line 18\u001b[0;36m\u001b[0m\n\u001b[0;31m    <!DOCTYPE html>\u001b[0m\n\u001b[0m    ^\u001b[0m\n\u001b[0;31mSyntaxError\u001b[0m\u001b[0;31m:\u001b[0m invalid syntax\n"
     ]
    }
   ],
   "source": [
    "# views.py\n",
    "from django.shortcuts import render\n",
    "from bokeh.plotting import figure\n",
    "from bokeh.embed import components\n",
    "\n",
    "def index(request):\n",
    "    # Create Bokeh plot\n",
    "    p = figure(plot_width=400, plot_height=400)\n",
    "    p.circle([1, 2, 3, 4, 5], [6, 7, 2, 4, 5], size=10, color=\"navy\", alpha=0.5)\n",
    "\n",
    "    # Generate Bokeh plot components\n",
    "    script, div = components(p)\n",
    "\n",
    "    # Render template with embedded Bokeh plot\n",
    "    return render(request, 'index.html', {'script': script, 'div': div})\n",
    "\n",
    "# index.html\n",
    "<!DOCTYPE html>\n",
    "<html>\n",
    "<head>\n",
    "    <title>Bokeh Plot</title>\n",
    "    <link href=\"https://cdn.bokeh.org/bokeh/release/bokeh-3.0.2.min.css\" rel=\"stylesheet\" type=\"text/css\">\n",
    "    <script src=\"https://cdn.bokeh.org/bokeh/release/bokeh-3.0.2.min.js\"></script>\n",
    "</head>\n",
    "<body>\n",
    "\n",
    "<div>\n",
    "    {{ div | safe }}\n",
    "    {{ script | safe }}\n",
    "</div>\n",
    "\n",
    "</body>\n",
    "</html>"
   ]
  },
  {
   "cell_type": "code",
   "execution_count": null,
   "id": "f71e4890-cfc4-4479-98cd-b6524dcb3b64",
   "metadata": {},
   "outputs": [],
   "source": []
  }
 ],
 "metadata": {
  "kernelspec": {
   "display_name": "Python 3 (ipykernel)",
   "language": "python",
   "name": "python3"
  },
  "language_info": {
   "codemirror_mode": {
    "name": "ipython",
    "version": 3
   },
   "file_extension": ".py",
   "mimetype": "text/x-python",
   "name": "python",
   "nbconvert_exporter": "python",
   "pygments_lexer": "ipython3",
   "version": "3.10.8"
  }
 },
 "nbformat": 4,
 "nbformat_minor": 5
}
